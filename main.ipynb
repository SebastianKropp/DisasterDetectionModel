{
 "cells": [
  {
   "attachments": {},
   "cell_type": "markdown",
   "metadata": {},
   "source": [
    "# Twitter Disaster Detection Model "
   ]
  },
  {
   "cell_type": "code",
   "execution_count": 229,
   "metadata": {},
   "outputs": [
    {
     "name": "stdout",
     "output_type": "stream",
     "text": [
      "Requirement already satisfied: pandas in c:\\users\\elmig\\miniconda3\\lib\\site-packages (from -r requirements.txt (line 1)) (2.0.1)\n",
      "Requirement already satisfied: numpy in c:\\users\\elmig\\miniconda3\\lib\\site-packages (from -r requirements.txt (line 2)) (1.23.4)\n",
      "Requirement already satisfied: matplotlib in c:\\users\\elmig\\miniconda3\\lib\\site-packages (from -r requirements.txt (line 3)) (3.7.1)\n",
      "Requirement already satisfied: scikit-learn in c:\\users\\elmig\\miniconda3\\lib\\site-packages (from -r requirements.txt (line 4)) (1.2.2)\n",
      "Requirement already satisfied: torch in c:\\users\\elmig\\miniconda3\\lib\\site-packages (from -r requirements.txt (line 5)) (2.0.1)\n",
      "Requirement already satisfied: python-dateutil>=2.8.2 in c:\\users\\elmig\\miniconda3\\lib\\site-packages (from pandas->-r requirements.txt (line 1)) (2.8.2)\n",
      "Requirement already satisfied: tzdata>=2022.1 in c:\\users\\elmig\\miniconda3\\lib\\site-packages (from pandas->-r requirements.txt (line 1)) (2023.3)\n",
      "Requirement already satisfied: pytz>=2020.1 in c:\\users\\elmig\\miniconda3\\lib\\site-packages (from pandas->-r requirements.txt (line 1)) (2023.3)\n",
      "Requirement already satisfied: kiwisolver>=1.0.1 in c:\\users\\elmig\\miniconda3\\lib\\site-packages (from matplotlib->-r requirements.txt (line 3)) (1.4.4)\n",
      "Requirement already satisfied: pillow>=6.2.0 in c:\\users\\elmig\\miniconda3\\lib\\site-packages (from matplotlib->-r requirements.txt (line 3)) (9.5.0)\n",
      "Requirement already satisfied: contourpy>=1.0.1 in c:\\users\\elmig\\miniconda3\\lib\\site-packages (from matplotlib->-r requirements.txt (line 3)) (1.0.7)\n",
      "Requirement already satisfied: importlib-resources>=3.2.0 in c:\\users\\elmig\\miniconda3\\lib\\site-packages (from matplotlib->-r requirements.txt (line 3)) (5.12.0)\n",
      "Requirement already satisfied: pyparsing>=2.3.1 in c:\\users\\elmig\\miniconda3\\lib\\site-packages (from matplotlib->-r requirements.txt (line 3)) (3.0.9)\n",
      "Requirement already satisfied: packaging>=20.0 in c:\\users\\elmig\\miniconda3\\lib\\site-packages (from matplotlib->-r requirements.txt (line 3)) (23.1)\n",
      "Requirement already satisfied: fonttools>=4.22.0 in c:\\users\\elmig\\miniconda3\\lib\\site-packages (from matplotlib->-r requirements.txt (line 3)) (4.39.3)\n",
      "Requirement already satisfied: cycler>=0.10 in c:\\users\\elmig\\miniconda3\\lib\\site-packages (from matplotlib->-r requirements.txt (line 3)) (0.11.0)\n",
      "Requirement already satisfied: joblib>=1.1.1 in c:\\users\\elmig\\miniconda3\\lib\\site-packages (from scikit-learn->-r requirements.txt (line 4)) (1.2.0)\n",
      "Requirement already satisfied: scipy>=1.3.2 in c:\\users\\elmig\\miniconda3\\lib\\site-packages (from scikit-learn->-r requirements.txt (line 4)) (1.10.1)\n",
      "Requirement already satisfied: threadpoolctl>=2.0.0 in c:\\users\\elmig\\miniconda3\\lib\\site-packages (from scikit-learn->-r requirements.txt (line 4)) (3.1.0)\n",
      "Requirement already satisfied: jinja2 in c:\\users\\elmig\\miniconda3\\lib\\site-packages (from torch->-r requirements.txt (line 5)) (3.1.2)\n",
      "Requirement already satisfied: sympy in c:\\users\\elmig\\miniconda3\\lib\\site-packages (from torch->-r requirements.txt (line 5)) (1.11.1)\n",
      "Requirement already satisfied: typing-extensions in c:\\users\\elmig\\miniconda3\\lib\\site-packages (from torch->-r requirements.txt (line 5)) (4.5.0)\n",
      "Requirement already satisfied: filelock in c:\\users\\elmig\\miniconda3\\lib\\site-packages (from torch->-r requirements.txt (line 5)) (3.12.0)\n",
      "Requirement already satisfied: networkx in c:\\users\\elmig\\miniconda3\\lib\\site-packages (from torch->-r requirements.txt (line 5)) (3.1)\n",
      "Requirement already satisfied: zipp>=3.1.0 in c:\\users\\elmig\\miniconda3\\lib\\site-packages (from importlib-resources>=3.2.0->matplotlib->-r requirements.txt (line 3)) (3.15.0)\n",
      "Requirement already satisfied: six>=1.5 in c:\\users\\elmig\\miniconda3\\lib\\site-packages (from python-dateutil>=2.8.2->pandas->-r requirements.txt (line 1)) (1.16.0)\n",
      "Requirement already satisfied: MarkupSafe>=2.0 in c:\\users\\elmig\\miniconda3\\lib\\site-packages (from jinja2->torch->-r requirements.txt (line 5)) (2.1.2)\n",
      "Requirement already satisfied: mpmath>=0.19 in c:\\users\\elmig\\miniconda3\\lib\\site-packages (from sympy->torch->-r requirements.txt (line 5)) (1.3.0)\n"
     ]
    }
   ],
   "source": [
    "\n",
    "! pip3 install -r requirements.txt\n",
    "import pandas as pd\n",
    "import matplotlib.pyplot as plt\n",
    "import numpy as np\n",
    "from sklearn.linear_model import LogisticRegression\n",
    "from sklearn.model_selection import train_test_split\n",
    "import random\n",
    "import torch\n",
    "from torch import nn, optim\n",
    "import math\n",
    "from IPython import display\n",
    "import requests\n",
    "import torch.nn.functional as F"
   ]
  },
  {
   "attachments": {},
   "cell_type": "markdown",
   "metadata": {},
   "source": [
    "### Pre-processing"
   ]
  },
  {
   "attachments": {},
   "cell_type": "markdown",
   "metadata": {},
   "source": [
    "Add the api calls to the csv"
   ]
  },
  {
   "attachments": {},
   "cell_type": "markdown",
   "metadata": {},
   "source": [
    "### Device"
   ]
  },
  {
   "cell_type": "code",
   "execution_count": 230,
   "metadata": {},
   "outputs": [],
   "source": [
    "device = torch.device(\"cuda:0\" if torch.cuda.is_available() else \"cpu\")"
   ]
  },
  {
   "attachments": {},
   "cell_type": "markdown",
   "metadata": {},
   "source": [
    "### Import CSV's"
   ]
  },
  {
   "cell_type": "code",
   "execution_count": 231,
   "metadata": {},
   "outputs": [],
   "source": [
    "train_df = pd.read_csv('preprocessed_train.csv', sep=',', encoding='latin-1')\n",
    "test_df = pd.read_csv(\"test.csv\")"
   ]
  },
  {
   "cell_type": "code",
   "execution_count": 232,
   "metadata": {},
   "outputs": [
    {
     "name": "stdout",
     "output_type": "stream",
     "text": [
      "2228    0\n",
      "7220    0\n",
      "671     0\n",
      "2953    0\n",
      "2731    0\n",
      "       ..\n",
      "6136    0\n",
      "1548    1\n",
      "7089    0\n",
      "5798    1\n",
      "2533    0\n",
      "Name: target, Length: 6088, dtype: int64\n"
     ]
    }
   ],
   "source": [
    "data = train_df[['keyword', 'location', 'sarcastic', 'not_sarcastic', 'negative', 'neutral', 'positive']]\n",
    "target = train_df['target']\n",
    "#print(X_data[\"neutral\"])\n",
    "train_data, val_data, train_target, val_target = train_test_split(data, target, test_size = 0.2)\n",
    "print(train_target)\n",
    "# split the dataset into training and validation sets\n",
    "#train_data, val_data = \n",
    "#print(train_data[:][\"sarcastic\"])\n",
    "#train_loader = torch.utils.data.DataLoader(train_data, batch_size=batch_size, shuffle=True)\n",
    "#val_loader = torch.utils.data.DataLoader(val_data, batch_size=batch_size, shuffle=True)\n"
   ]
  },
  {
   "attachments": {},
   "cell_type": "markdown",
   "metadata": {},
   "source": [
    "### Convert categorical features in a DataFrame to one-hot encoding"
   ]
  },
  {
   "cell_type": "code",
   "execution_count": 233,
   "metadata": {},
   "outputs": [],
   "source": [
    "def convert_features_to_one_hot(df, feature_name_list):\n",
    "  for feature_name in feature_name_list:\n",
    "    df = pd.get_dummies(df, columns=[feature_name])\n",
    "  \n",
    "  return df\n",
    "#Define the training set/test set from the imported data... x_train, x_val, etc... needs to be predefined\n",
    "\n",
    "data_to_convert = ['train_data', 'val_data']\n",
    "\n",
    "feature_list = ['location', 'keyword']\n",
    "for i,ix in enumerate(data_to_convert):\n",
    "  exec(f'{data_to_convert[i]} = convert_features_to_one_hot({ix}, {feature_list})')\n"
   ]
  },
  {
   "cell_type": "code",
   "execution_count": 234,
   "metadata": {},
   "outputs": [
    {
     "name": "stdout",
     "output_type": "stream",
     "text": [
      "2988\n"
     ]
    }
   ],
   "source": [
    "print(len(train_data.keys()))\n",
    "input_layers = len(train_data.keys())"
   ]
  },
  {
   "attachments": {},
   "cell_type": "markdown",
   "metadata": {},
   "source": [
    "### Model draft "
   ]
  },
  {
   "cell_type": "code",
   "execution_count": 235,
   "metadata": {},
   "outputs": [],
   "source": [
    "class netmodel(nn.Module):\n",
    "  def __init__(self, input_layer=1, num_hidden=1, node_per_hidden=32, droppout=0., LSTM_layers=0, outputs=2):\n",
    "    super(netmodel, self).__init__()\n",
    "    self.input_layer = input_layer\n",
    "    self.num_hidden = num_hidden \n",
    "    self.node_per_hidden = node_per_hidden\n",
    "    self.droppout = droppout \n",
    "    self.SLTM_layers = LSTM_layers \n",
    "    self.outputs = outputs \n",
    "    self.inputfc = nn.Linear(input_layer, node_per_hidden) \n",
    "    self.hiddenfc = [] \n",
    "    for i in range(num_hidden-1):\n",
    "      self.hiddenfc.append(nn.Linear(node_per_hidden, node_per_hidden))\n",
    "    self.lastfc = nn.Linear(node_per_hidden, outputs)\n",
    "\n",
    "  def forward(self, x, debug=False):\n",
    "    drop = nn.Dropout(p=self.droppout)\n",
    "    #x = x.view(1,1)\n",
    "    x = self.inputfc(x)\n",
    "    x = F.relu(x)\n",
    "    x = drop(x)\n",
    "    for i in range(self.num_hidden-1):\n",
    "      x = self.hiddenfc[i](x)\n",
    "      x = F.relu(x)\n",
    "      x = drop(x)\n",
    "    \n",
    "    x = self.lastfc(x)\n",
    "    x = F.softmax(x, dim=1)\n",
    "    return x \n",
    "\n"
   ]
  },
  {
   "cell_type": "code",
   "execution_count": 236,
   "metadata": {},
   "outputs": [],
   "source": [
    "Model = netmodel(input_layer=input_layers, num_hidden=3, droppout=0.3).to(device)\n",
    "\n",
    "#Model.forward(torch.tensor([[1., 1., 1., 1., 1., 1., 1., 1., 1., 1., 1., 1.]]))"
   ]
  },
  {
   "cell_type": "code",
   "execution_count": 237,
   "metadata": {},
   "outputs": [
    {
     "name": "stdout",
     "output_type": "stream",
     "text": [
      "6088\n",
      "6088\n"
     ]
    }
   ],
   "source": [
    "\n",
    "\n",
    "batch_size = 32\n",
    "print(len(train_data))\n",
    "print(len(train_target))\n",
    "#tensor_train = torch.utils.data.TensorDataset(train_data, train_target)\n",
    "tensor_train = torch.tensor(train_data.values.astype(float), dtype=torch.float32).to(device)\n",
    "tensor_train_labels = torch.tensor(train_target.values.astype(float), dtype=torch.long).to(device)\n",
    "tensor_train_set = torch.utils.data.TensorDataset(tensor_train, tensor_train_labels)\n",
    "\n",
    "# Convert validation data to PyTorch tensors and move to device\n",
    "#tensor_val = torch.utils.data.TensorDataset(val_data, val_target)\n",
    "tensor_val = torch.tensor(val_data.values.astype(float), dtype=torch.float32).to(device)\n",
    "tensor_val_labels = torch.tensor(val_target.values.astype(float), dtype=torch.long).to(device)\n",
    "tensor_val_set = torch.utils.data.TensorDataset(tensor_val, tensor_val_labels)\n",
    "\n",
    "train_loader = torch.utils.data.DataLoader(tensor_train_set, batch_size=batch_size, shuffle=True)\n",
    "\n",
    "val_loader = torch.utils.data.DataLoader(tensor_val_set, batch_size=batch_size, shuffle=True)\n",
    "\n",
    "lr = 1e-3\n",
    "lambda_l2 = 1e-3\n",
    "loss_func = nn.CrossEntropyLoss().to(device)\n",
    "optimizer = torch.optim.Adam(Model.parameters(), lr=lr, weight_decay=lambda_l2)\n",
    "\n"
   ]
  },
  {
   "cell_type": "code",
   "execution_count": 239,
   "metadata": {},
   "outputs": [],
   "source": [
    "def train_model(epochs, model):\n",
    "    model.train()\n",
    "    for epoch in range(epochs):\n",
    "      for batch_id, (data, label) in enumerate(train_loader):\n",
    "        #print(batch_idx)\n",
    "\n",
    "\n",
    "        pred = Model.forward(data)\n",
    "        #print(type(pred[0][0].item()))\n",
    "\n",
    "        optimizer.zero_grad()\n",
    "        loss = loss_func(pred, label)\n",
    "        #print(loss)\n",
    "        loss.backward()\n",
    "        optimizer.step()\n",
    "        if batch_id % 60 == 0:\n",
    "          print('Train Epoch: {} [{}/{} ({:.0f}%)]\\tLoss: {:.6f}'.format(\n",
    "            epoch, batch_id * len(data), len(train_loader.dataset),\n",
    "            100. * batch_id / len(train_loader), loss.item()))"
   ]
  },
  {
   "cell_type": "code",
   "execution_count": 241,
   "metadata": {},
   "outputs": [
    {
     "name": "stdout",
     "output_type": "stream",
     "text": [
      "Train Epoch: 0 [0/6088 (0%)]\tLoss: 0.691390\n",
      "Train Epoch: 0 [1920/6088 (31%)]\tLoss: 0.661073\n",
      "Train Epoch: 0 [3840/6088 (63%)]\tLoss: 0.660108\n",
      "Train Epoch: 0 [5760/6088 (94%)]\tLoss: 0.685806\n",
      "Train Epoch: 1 [0/6088 (0%)]\tLoss: 0.722326\n",
      "Train Epoch: 1 [1920/6088 (31%)]\tLoss: 0.653340\n",
      "Train Epoch: 1 [3840/6088 (63%)]\tLoss: 0.676474\n",
      "Train Epoch: 1 [5760/6088 (94%)]\tLoss: 0.676241\n",
      "Train Epoch: 2 [0/6088 (0%)]\tLoss: 0.665831\n",
      "Train Epoch: 2 [1920/6088 (31%)]\tLoss: 0.677111\n",
      "Train Epoch: 2 [3840/6088 (63%)]\tLoss: 0.668739\n",
      "Train Epoch: 2 [5760/6088 (94%)]\tLoss: 0.668142\n",
      "Train Epoch: 3 [0/6088 (0%)]\tLoss: 0.698243\n",
      "Train Epoch: 3 [1920/6088 (31%)]\tLoss: 0.655003\n",
      "Train Epoch: 3 [3840/6088 (63%)]\tLoss: 0.689686\n",
      "Train Epoch: 3 [5760/6088 (94%)]\tLoss: 0.650327\n",
      "Train Epoch: 4 [0/6088 (0%)]\tLoss: 0.675714\n",
      "Train Epoch: 4 [1920/6088 (31%)]\tLoss: 0.699192\n",
      "Train Epoch: 4 [3840/6088 (63%)]\tLoss: 0.621887\n",
      "Train Epoch: 4 [5760/6088 (94%)]\tLoss: 0.699428\n",
      "Train Epoch: 5 [0/6088 (0%)]\tLoss: 0.655585\n",
      "Train Epoch: 5 [1920/6088 (31%)]\tLoss: 0.655711\n",
      "Train Epoch: 5 [3840/6088 (63%)]\tLoss: 0.684844\n",
      "Train Epoch: 5 [5760/6088 (94%)]\tLoss: 0.671948\n",
      "Train Epoch: 6 [0/6088 (0%)]\tLoss: 0.692669\n",
      "Train Epoch: 6 [1920/6088 (31%)]\tLoss: 0.645095\n",
      "Train Epoch: 6 [3840/6088 (63%)]\tLoss: 0.650183\n",
      "Train Epoch: 6 [5760/6088 (94%)]\tLoss: 0.660228\n",
      "Train Epoch: 7 [0/6088 (0%)]\tLoss: 0.691634\n",
      "Train Epoch: 7 [1920/6088 (31%)]\tLoss: 0.664333\n",
      "Train Epoch: 7 [3840/6088 (63%)]\tLoss: 0.636817\n",
      "Train Epoch: 7 [5760/6088 (94%)]\tLoss: 0.656986\n",
      "Train Epoch: 8 [0/6088 (0%)]\tLoss: 0.659309\n",
      "Train Epoch: 8 [1920/6088 (31%)]\tLoss: 0.612543\n",
      "Train Epoch: 8 [3840/6088 (63%)]\tLoss: 0.639008\n",
      "Train Epoch: 8 [5760/6088 (94%)]\tLoss: 0.671422\n",
      "Train Epoch: 9 [0/6088 (0%)]\tLoss: 0.596216\n",
      "Train Epoch: 9 [1920/6088 (31%)]\tLoss: 0.636992\n",
      "Train Epoch: 9 [3840/6088 (63%)]\tLoss: 0.697090\n",
      "Train Epoch: 9 [5760/6088 (94%)]\tLoss: 0.680947\n"
     ]
    }
   ],
   "source": [
    "train_model(10, Model)"
   ]
  }
 ],
 "metadata": {
  "kernelspec": {
   "display_name": "Python 3 (ipykernel)",
   "language": "python",
   "name": "python3"
  },
  "language_info": {
   "codemirror_mode": {
    "name": "ipython",
    "version": 3
   },
   "file_extension": ".py",
   "mimetype": "text/x-python",
   "name": "python",
   "nbconvert_exporter": "python",
   "pygments_lexer": "ipython3",
   "version": "3.10.11"
  },
  "orig_nbformat": 4
 },
 "nbformat": 4,
 "nbformat_minor": 2
}
