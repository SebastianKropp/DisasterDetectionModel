{
 "cells": [
  {
   "attachments": {},
   "cell_type": "markdown",
   "metadata": {},
   "source": [
    "# Twitter Disaster Detection Model "
   ]
  },
  {
   "cell_type": "code",
   "execution_count": 1,
   "metadata": {},
   "outputs": [
    {
     "name": "stdout",
     "output_type": "stream",
     "text": [
      "Requirement already satisfied: pandas in c:\\users\\elmig\\miniconda3\\lib\\site-packages (from -r requirements.txt (line 1)) (2.0.1)\n",
      "Requirement already satisfied: numpy in c:\\users\\elmig\\miniconda3\\lib\\site-packages (from -r requirements.txt (line 2)) (1.23.4)\n",
      "Requirement already satisfied: matplotlib in c:\\users\\elmig\\miniconda3\\lib\\site-packages (from -r requirements.txt (line 3)) (3.7.1)\n",
      "Requirement already satisfied: scikit-learn in c:\\users\\elmig\\miniconda3\\lib\\site-packages (from -r requirements.txt (line 4)) (1.2.2)\n",
      "Requirement already satisfied: torch in c:\\users\\elmig\\miniconda3\\lib\\site-packages (from -r requirements.txt (line 5)) (2.0.1)\n",
      "Requirement already satisfied: pytz>=2020.1 in c:\\users\\elmig\\miniconda3\\lib\\site-packages (from pandas->-r requirements.txt (line 1)) (2023.3)\n",
      "Requirement already satisfied: tzdata>=2022.1 in c:\\users\\elmig\\miniconda3\\lib\\site-packages (from pandas->-r requirements.txt (line 1)) (2023.3)\n",
      "Requirement already satisfied: python-dateutil>=2.8.2 in c:\\users\\elmig\\miniconda3\\lib\\site-packages (from pandas->-r requirements.txt (line 1)) (2.8.2)\n",
      "Requirement already satisfied: pillow>=6.2.0 in c:\\users\\elmig\\miniconda3\\lib\\site-packages (from matplotlib->-r requirements.txt (line 3)) (9.5.0)\n",
      "Requirement already satisfied: fonttools>=4.22.0 in c:\\users\\elmig\\miniconda3\\lib\\site-packages (from matplotlib->-r requirements.txt (line 3)) (4.39.3)\n",
      "Requirement already satisfied: cycler>=0.10 in c:\\users\\elmig\\miniconda3\\lib\\site-packages (from matplotlib->-r requirements.txt (line 3)) (0.11.0)\n",
      "Requirement already satisfied: packaging>=20.0 in c:\\users\\elmig\\miniconda3\\lib\\site-packages (from matplotlib->-r requirements.txt (line 3)) (23.1)\n",
      "Requirement already satisfied: contourpy>=1.0.1 in c:\\users\\elmig\\miniconda3\\lib\\site-packages (from matplotlib->-r requirements.txt (line 3)) (1.0.7)\n",
      "Requirement already satisfied: kiwisolver>=1.0.1 in c:\\users\\elmig\\miniconda3\\lib\\site-packages (from matplotlib->-r requirements.txt (line 3)) (1.4.4)\n",
      "Requirement already satisfied: importlib-resources>=3.2.0 in c:\\users\\elmig\\miniconda3\\lib\\site-packages (from matplotlib->-r requirements.txt (line 3)) (5.12.0)\n",
      "Requirement already satisfied: pyparsing>=2.3.1 in c:\\users\\elmig\\miniconda3\\lib\\site-packages (from matplotlib->-r requirements.txt (line 3)) (3.0.9)\n",
      "Requirement already satisfied: scipy>=1.3.2 in c:\\users\\elmig\\miniconda3\\lib\\site-packages (from scikit-learn->-r requirements.txt (line 4)) (1.10.1)\n",
      "Requirement already satisfied: threadpoolctl>=2.0.0 in c:\\users\\elmig\\miniconda3\\lib\\site-packages (from scikit-learn->-r requirements.txt (line 4)) (3.1.0)\n",
      "Requirement already satisfied: joblib>=1.1.1 in c:\\users\\elmig\\miniconda3\\lib\\site-packages (from scikit-learn->-r requirements.txt (line 4)) (1.2.0)\n",
      "Requirement already satisfied: typing-extensions in c:\\users\\elmig\\miniconda3\\lib\\site-packages (from torch->-r requirements.txt (line 5)) (4.5.0)\n",
      "Requirement already satisfied: jinja2 in c:\\users\\elmig\\miniconda3\\lib\\site-packages (from torch->-r requirements.txt (line 5)) (3.1.2)\n",
      "Requirement already satisfied: filelock in c:\\users\\elmig\\miniconda3\\lib\\site-packages (from torch->-r requirements.txt (line 5)) (3.12.0)\n",
      "Requirement already satisfied: sympy in c:\\users\\elmig\\miniconda3\\lib\\site-packages (from torch->-r requirements.txt (line 5)) (1.11.1)\n",
      "Requirement already satisfied: networkx in c:\\users\\elmig\\miniconda3\\lib\\site-packages (from torch->-r requirements.txt (line 5)) (3.1)\n",
      "Requirement already satisfied: zipp>=3.1.0 in c:\\users\\elmig\\miniconda3\\lib\\site-packages (from importlib-resources>=3.2.0->matplotlib->-r requirements.txt (line 3)) (3.15.0)\n",
      "Requirement already satisfied: six>=1.5 in c:\\users\\elmig\\miniconda3\\lib\\site-packages (from python-dateutil>=2.8.2->pandas->-r requirements.txt (line 1)) (1.16.0)\n",
      "Requirement already satisfied: MarkupSafe>=2.0 in c:\\users\\elmig\\miniconda3\\lib\\site-packages (from jinja2->torch->-r requirements.txt (line 5)) (2.1.2)\n",
      "Requirement already satisfied: mpmath>=0.19 in c:\\users\\elmig\\miniconda3\\lib\\site-packages (from sympy->torch->-r requirements.txt (line 5)) (1.3.0)\n"
     ]
    }
   ],
   "source": [
    "\n",
    "! pip3 install -r requirements.txt\n",
    "import pandas as pd\n",
    "import matplotlib.pyplot as plt\n",
    "import numpy as np\n",
    "from sklearn.linear_model import LogisticRegression\n",
    "from sklearn.model_selection import train_test_split\n",
    "import random\n",
    "import torch\n",
    "from torch import nn, optim\n",
    "import math\n",
    "from IPython import display\n",
    "import requests\n",
    "import torch.nn.functional as F"
   ]
  },
  {
   "attachments": {},
   "cell_type": "markdown",
   "metadata": {},
   "source": [
    "### Pre-processing"
   ]
  },
  {
   "attachments": {},
   "cell_type": "markdown",
   "metadata": {},
   "source": [
    "Preprocessing done in a seperate file and saved in preprocessed_(test/tain).csv, so the long process does not need to occur each run"
   ]
  },
  {
   "attachments": {},
   "cell_type": "markdown",
   "metadata": {},
   "source": [
    "### Device"
   ]
  },
  {
   "cell_type": "code",
   "execution_count": 2,
   "metadata": {},
   "outputs": [],
   "source": [
    "device = torch.device(\"cuda:0\" if torch.cuda.is_available() else \"cpu\")"
   ]
  },
  {
   "attachments": {},
   "cell_type": "markdown",
   "metadata": {},
   "source": [
    "### Import CSV's"
   ]
  },
  {
   "cell_type": "code",
   "execution_count": 3,
   "metadata": {},
   "outputs": [],
   "source": [
    "train_df = pd.read_csv('preprocessed_train.csv', sep=',', encoding='latin-1')\n",
    "test_df = pd.read_csv(\"test.csv\")"
   ]
  },
  {
   "cell_type": "code",
   "execution_count": 4,
   "metadata": {},
   "outputs": [
    {
     "name": "stdout",
     "output_type": "stream",
     "text": [
      "5248    1\n",
      "1090    0\n",
      "3039    1\n",
      "34      0\n",
      "3451    0\n",
      "       ..\n",
      "4406    0\n",
      "4004    1\n",
      "749     0\n",
      "1894    0\n",
      "6370    1\n",
      "Name: target, Length: 6088, dtype: int64\n"
     ]
    }
   ],
   "source": [
    "data = train_df[['keyword', 'location', 'sarcastic', 'not_sarcastic', 'negative', 'neutral', 'positive']]\n",
    "target = train_df['target']\n",
    "#print(X_data[\"neutral\"])\n",
    "train_data, val_data, train_target, val_target = train_test_split(data, target, test_size = 0.2)\n",
    "print(train_target)\n",
    "# split the dataset into training and validation sets\n",
    "#train_data, val_data = \n",
    "#print(train_data[:][\"sarcastic\"])\n",
    "#train_loader = torch.utils.data.DataLoader(train_data, batch_size=batch_size, shuffle=True)\n",
    "#val_loader = torch.utils.data.DataLoader(val_data, batch_size=batch_size, shuffle=True)\n"
   ]
  },
  {
   "attachments": {},
   "cell_type": "markdown",
   "metadata": {},
   "source": [
    "### Convert categorical features in a DataFrame to one-hot encoding"
   ]
  },
  {
   "cell_type": "code",
   "execution_count": 5,
   "metadata": {},
   "outputs": [],
   "source": [
    "def convert_features_to_one_hot(df, feature_name_list):\n",
    "  for feature_name in feature_name_list:\n",
    "    df = pd.get_dummies(df, columns=[feature_name])\n",
    "  \n",
    "  return df\n",
    "#Define the training set/test set from the imported data... x_train, x_val, etc... needs to be predefined\n",
    "\n",
    "data_to_convert = ['train_data', 'val_data']\n",
    "\n",
    "feature_list = ['location', 'keyword']\n",
    "for i,ix in enumerate(data_to_convert):\n",
    "  exec(f'{data_to_convert[i]} = convert_features_to_one_hot({ix}, {feature_list})')\n"
   ]
  },
  {
   "cell_type": "code",
   "execution_count": 6,
   "metadata": {},
   "outputs": [
    {
     "name": "stdout",
     "output_type": "stream",
     "text": [
      "3011\n"
     ]
    }
   ],
   "source": [
    "print(len(train_data.keys()))\n",
    "input_layers = len(train_data.keys())"
   ]
  },
  {
   "attachments": {},
   "cell_type": "markdown",
   "metadata": {},
   "source": [
    "### Model draft "
   ]
  },
  {
   "cell_type": "code",
   "execution_count": 7,
   "metadata": {},
   "outputs": [],
   "source": [
    "class netmodel(nn.Module):\n",
    "  def __init__(self, input_layer=1, num_hidden=1, node_per_hidden=32, droppout=0., LSTM_layers=0, outputs=2):\n",
    "    super(netmodel, self).__init__()\n",
    "    self.input_layer = input_layer\n",
    "    self.num_hidden = num_hidden \n",
    "    self.node_per_hidden = node_per_hidden\n",
    "    self.droppout = droppout \n",
    "    self.SLTM_layers = LSTM_layers \n",
    "    self.outputs = outputs \n",
    "    self.inputfc = nn.Linear(input_layer, node_per_hidden) \n",
    "    self.hiddenfc = [] \n",
    "    for i in range(num_hidden-1):\n",
    "      self.hiddenfc.append(nn.Linear(node_per_hidden, node_per_hidden))\n",
    "    self.lastfc = nn.Linear(node_per_hidden, outputs)\n",
    "\n",
    "  def forward(self, x, debug=False):\n",
    "    drop = nn.Dropout(p=self.droppout)\n",
    "    #x = x.view(1,1)\n",
    "    x = self.inputfc(x)\n",
    "    x = F.relu(x)\n",
    "    x = drop(x)\n",
    "    for i in range(self.num_hidden-1):\n",
    "      x = self.hiddenfc[i](x)\n",
    "      x = F.relu(x)\n",
    "      x = drop(x)\n",
    "    \n",
    "    x = self.lastfc(x)\n",
    "    x = F.softmax(x, dim=1)\n",
    "    return x \n",
    "\n"
   ]
  },
  {
   "cell_type": "code",
   "execution_count": 37,
   "metadata": {},
   "outputs": [],
   "source": [
    "Model = netmodel(input_layer=input_layers, num_hidden=50, node_per_hidden=64, droppout=0.3).to(device)\n",
    "\n",
    "#Model.forward(torch.tensor([[1., 1., 1., 1., 1., 1., 1., 1., 1., 1., 1., 1.]]))"
   ]
  },
  {
   "attachments": {},
   "cell_type": "markdown",
   "metadata": {},
   "source": [
    "### Build loaders + set variables"
   ]
  },
  {
   "cell_type": "code",
   "execution_count": 38,
   "metadata": {},
   "outputs": [
    {
     "name": "stdout",
     "output_type": "stream",
     "text": [
      "6088\n",
      "6088\n"
     ]
    }
   ],
   "source": [
    "\n",
    "\n",
    "batch_size = 32\n",
    "print(len(train_data))\n",
    "print(len(train_target))\n",
    "#tensor_train = torch.utils.data.TensorDataset(train_data, train_target)\n",
    "tensor_train = torch.tensor(train_data.values.astype(float), dtype=torch.float32).to(device)\n",
    "tensor_train_labels = torch.tensor(train_target.values.astype(float), dtype=torch.long).to(device)\n",
    "tensor_train_set = torch.utils.data.TensorDataset(tensor_train, tensor_train_labels)\n",
    "\n",
    "# Convert validation data to PyTorch tensors and move to device\n",
    "#tensor_val = torch.utils.data.TensorDataset(val_data, val_target)\n",
    "tensor_val = torch.tensor(val_data.values.astype(float), dtype=torch.float32).to(device)\n",
    "tensor_val_labels = torch.tensor(val_target.values.astype(float), dtype=torch.long).to(device)\n",
    "tensor_val_set = torch.utils.data.TensorDataset(tensor_val, tensor_val_labels)\n",
    "\n",
    "train_loader = torch.utils.data.DataLoader(tensor_train_set, batch_size=batch_size, shuffle=True)\n",
    "\n",
    "val_loader = torch.utils.data.DataLoader(tensor_val_set, batch_size=batch_size, shuffle=True)\n",
    "\n",
    "lr = 1e-3\n",
    "lambda_l2 = 1e-3\n",
    "loss_func = nn.CrossEntropyLoss().to(device)\n",
    "optimizer = torch.optim.Adam(Model.parameters(), lr=lr, weight_decay=lambda_l2)\n",
    "\n"
   ]
  },
  {
   "cell_type": "code",
   "execution_count": 40,
   "metadata": {},
   "outputs": [],
   "source": [
    "def train_model(epochs, model):\n",
    "    losses = []\n",
    "    model.train()\n",
    "    for epoch in range(epochs):\n",
    "      for batch_id, (data, label) in enumerate(train_loader):\n",
    "        #print(batch_idx)\n",
    "\n",
    "\n",
    "        pred = Model.forward(data)\n",
    "        #print(type(pred[0][0].item()))\n",
    "\n",
    "        optimizer.zero_grad()\n",
    "        loss = loss_func(pred, label)\n",
    "        \n",
    "        #print(loss)\n",
    "        loss.backward()\n",
    "        optimizer.step()\n",
    "        losses.append(loss.detach().numpy())\n",
    "        if batch_id % 100 == 0:\n",
    "          print('Train Epoch: {} [{}/{} ({:.0f}%)]\\tLoss: {:.6f}'.format(\n",
    "            epoch, batch_id * len(data), len(train_loader.dataset),\n",
    "            100. * batch_id / len(train_loader), loss.item()))\n",
    "          \n",
    "    return losses "
   ]
  },
  {
   "cell_type": "code",
   "execution_count": 41,
   "metadata": {},
   "outputs": [
    {
     "name": "stdout",
     "output_type": "stream",
     "text": [
      "Train Epoch: 0 [0/6088 (0%)]\tLoss: 0.694826\n",
      "Train Epoch: 0 [3200/6088 (52%)]\tLoss: 0.682447\n",
      "Train Epoch: 1 [0/6088 (0%)]\tLoss: 0.722706\n",
      "Train Epoch: 1 [3200/6088 (52%)]\tLoss: 0.692383\n",
      "Train Epoch: 2 [0/6088 (0%)]\tLoss: 0.678328\n",
      "Train Epoch: 2 [3200/6088 (52%)]\tLoss: 0.695278\n",
      "Train Epoch: 3 [0/6088 (0%)]\tLoss: 0.679066\n",
      "Train Epoch: 3 [3200/6088 (52%)]\tLoss: 0.686897\n",
      "Train Epoch: 4 [0/6088 (0%)]\tLoss: 0.659042\n",
      "Train Epoch: 4 [3200/6088 (52%)]\tLoss: 0.642273\n",
      "Train Epoch: 5 [0/6088 (0%)]\tLoss: 0.680987\n",
      "Train Epoch: 5 [3200/6088 (52%)]\tLoss: 0.685553\n",
      "Train Epoch: 6 [0/6088 (0%)]\tLoss: 0.676755\n",
      "Train Epoch: 6 [3200/6088 (52%)]\tLoss: 0.683178\n",
      "Train Epoch: 7 [0/6088 (0%)]\tLoss: 0.670792\n",
      "Train Epoch: 7 [3200/6088 (52%)]\tLoss: 0.644660\n",
      "Train Epoch: 8 [0/6088 (0%)]\tLoss: 0.638346\n",
      "Train Epoch: 8 [3200/6088 (52%)]\tLoss: 0.659537\n",
      "Train Epoch: 9 [0/6088 (0%)]\tLoss: 0.711194\n",
      "Train Epoch: 9 [3200/6088 (52%)]\tLoss: 0.715441\n"
     ]
    }
   ],
   "source": [
    "losses = train_model(10, Model)\n"
   ]
  },
  {
   "cell_type": "code",
   "execution_count": 42,
   "metadata": {},
   "outputs": [
    {
     "name": "stdout",
     "output_type": "stream",
     "text": [
      "0.6948258\n"
     ]
    },
    {
     "data": {
      "text/plain": [
       "[<matplotlib.lines.Line2D at 0x1490e0e7910>]"
      ]
     },
     "execution_count": 42,
     "metadata": {},
     "output_type": "execute_result"
    },
    {
     "data": {
      "image/png": "[encoded data removed]",
      "text/plain": [
       "<Figure size 800x600 with 1 Axes>"
      ]
     },
     "metadata": {},
     "output_type": "display_data"
    }
   ],
   "source": [
    "fig, ax = plt.subplots(figsize=(8, 6))\n",
    "print(losses[0])\n",
    "ax.plot(range(0, len(losses)), losses)"
   ]
  },
  {
   "cell_type": "code",
   "execution_count": 14,
   "metadata": {},
   "outputs": [],
   "source": [
    "def test_model(model, loader):\n",
    "    model.eval()\n",
    "    losses = [] \n",
    "    with torch.no_grad():\n",
    "      for batch_id, (data, label) in enumerate(loader):\n",
    "        #print(batch_idx)\n",
    "\n",
    "\n",
    "        pred = Model.forward(data)\n",
    "        #print(type(pred[0][0].item()))\n",
    "\n",
    "        optimizer.zero_grad()\n",
    "        loss = loss_func(pred, label)\n",
    "        losses.append(loss)\n",
    "        #print(loss)\n",
    "        loss.backward()\n",
    "        optimizer.step()\n",
    "        if batch_id % 100 == 0:\n",
    "          print('Test: [{}/{} ({:.0f}%)]\\tLoss: {:.6f}'.format(\n",
    "            batch_id * len(data), len(loader.dataset),\n",
    "            100. * batch_id / len(loader), loss.item()))\n",
    "          \n",
    "    return losses"
   ]
  },
  {
   "cell_type": "code",
   "execution_count": 15,
   "metadata": {},
   "outputs": [
    {
     "ename": "RuntimeError",
     "evalue": "mat1 and mat2 shapes cannot be multiplied (32x1047 and 3011x32)",
     "output_type": "error",
     "traceback": [
      "\u001b[1;31m---------------------------------------------------------------------------\u001b[0m",
      "\u001b[1;31mRuntimeError\u001b[0m                              Traceback (most recent call last)",
      "Cell \u001b[1;32mIn[15], line 1\u001b[0m\n\u001b[1;32m----> 1\u001b[0m test_model(Model, val_loader)\n",
      "Cell \u001b[1;32mIn[14], line 9\u001b[0m, in \u001b[0;36mtest_model\u001b[1;34m(model, loader)\u001b[0m\n\u001b[0;32m      4\u001b[0m \u001b[39mwith\u001b[39;00m torch\u001b[39m.\u001b[39mno_grad():\n\u001b[0;32m      5\u001b[0m   \u001b[39mfor\u001b[39;00m batch_id, (data, label) \u001b[39min\u001b[39;00m \u001b[39menumerate\u001b[39m(loader):\n\u001b[0;32m      6\u001b[0m     \u001b[39m#print(batch_idx)\u001b[39;00m\n\u001b[1;32m----> 9\u001b[0m     pred \u001b[39m=\u001b[39m Model\u001b[39m.\u001b[39;49mforward(data)\n\u001b[0;32m     10\u001b[0m     \u001b[39m#print(type(pred[0][0].item()))\u001b[39;00m\n\u001b[0;32m     12\u001b[0m     optimizer\u001b[39m.\u001b[39mzero_grad()\n",
      "Cell \u001b[1;32mIn[7], line 19\u001b[0m, in \u001b[0;36mnetmodel.forward\u001b[1;34m(self, x, debug)\u001b[0m\n\u001b[0;32m     17\u001b[0m drop \u001b[39m=\u001b[39m nn\u001b[39m.\u001b[39mDropout(p\u001b[39m=\u001b[39m\u001b[39mself\u001b[39m\u001b[39m.\u001b[39mdroppout)\n\u001b[0;32m     18\u001b[0m \u001b[39m#x = x.view(1,1)\u001b[39;00m\n\u001b[1;32m---> 19\u001b[0m x \u001b[39m=\u001b[39m \u001b[39mself\u001b[39;49m\u001b[39m.\u001b[39;49minputfc(x)\n\u001b[0;32m     20\u001b[0m x \u001b[39m=\u001b[39m F\u001b[39m.\u001b[39mrelu(x)\n\u001b[0;32m     21\u001b[0m x \u001b[39m=\u001b[39m drop(x)\n",
      "File \u001b[1;32m~\\miniconda3\\lib\\site-packages\\torch\\nn\\modules\\module.py:1501\u001b[0m, in \u001b[0;36mModule._call_impl\u001b[1;34m(self, *args, **kwargs)\u001b[0m\n\u001b[0;32m   1496\u001b[0m \u001b[39m# If we don't have any hooks, we want to skip the rest of the logic in\u001b[39;00m\n\u001b[0;32m   1497\u001b[0m \u001b[39m# this function, and just call forward.\u001b[39;00m\n\u001b[0;32m   1498\u001b[0m \u001b[39mif\u001b[39;00m \u001b[39mnot\u001b[39;00m (\u001b[39mself\u001b[39m\u001b[39m.\u001b[39m_backward_hooks \u001b[39mor\u001b[39;00m \u001b[39mself\u001b[39m\u001b[39m.\u001b[39m_backward_pre_hooks \u001b[39mor\u001b[39;00m \u001b[39mself\u001b[39m\u001b[39m.\u001b[39m_forward_hooks \u001b[39mor\u001b[39;00m \u001b[39mself\u001b[39m\u001b[39m.\u001b[39m_forward_pre_hooks\n\u001b[0;32m   1499\u001b[0m         \u001b[39mor\u001b[39;00m _global_backward_pre_hooks \u001b[39mor\u001b[39;00m _global_backward_hooks\n\u001b[0;32m   1500\u001b[0m         \u001b[39mor\u001b[39;00m _global_forward_hooks \u001b[39mor\u001b[39;00m _global_forward_pre_hooks):\n\u001b[1;32m-> 1501\u001b[0m     \u001b[39mreturn\u001b[39;00m forward_call(\u001b[39m*\u001b[39margs, \u001b[39m*\u001b[39m\u001b[39m*\u001b[39mkwargs)\n\u001b[0;32m   1502\u001b[0m \u001b[39m# Do not call functions when jit is used\u001b[39;00m\n\u001b[0;32m   1503\u001b[0m full_backward_hooks, non_full_backward_hooks \u001b[39m=\u001b[39m [], []\n",
      "File \u001b[1;32m~\\miniconda3\\lib\\site-packages\\torch\\nn\\modules\\linear.py:114\u001b[0m, in \u001b[0;36mLinear.forward\u001b[1;34m(self, input)\u001b[0m\n\u001b[0;32m    113\u001b[0m \u001b[39mdef\u001b[39;00m \u001b[39mforward\u001b[39m(\u001b[39mself\u001b[39m, \u001b[39minput\u001b[39m: Tensor) \u001b[39m-\u001b[39m\u001b[39m>\u001b[39m Tensor:\n\u001b[1;32m--> 114\u001b[0m     \u001b[39mreturn\u001b[39;00m F\u001b[39m.\u001b[39;49mlinear(\u001b[39minput\u001b[39;49m, \u001b[39mself\u001b[39;49m\u001b[39m.\u001b[39;49mweight, \u001b[39mself\u001b[39;49m\u001b[39m.\u001b[39;49mbias)\n",
      "\u001b[1;31mRuntimeError\u001b[0m: mat1 and mat2 shapes cannot be multiplied (32x1047 and 3011x32)"
     ]
    }
   ],
   "source": [
    "test_model(Model, val_loader)"
   ]
  }
 ],
 "metadata": {
  "kernelspec": {
   "display_name": "Python 3 (ipykernel)",
   "language": "python",
   "name": "python3"
  },
  "language_info": {
   "codemirror_mode": {
    "name": "ipython",
    "version": 3
   },
   "file_extension": ".py",
   "mimetype": "text/x-python",
   "name": "python",
   "nbconvert_exporter": "python",
   "pygments_lexer": "ipython3",
   "version": "3.9.12"
  },
  "orig_nbformat": 4
 },
 "nbformat": 4,
 "nbformat_minor": 2
}
