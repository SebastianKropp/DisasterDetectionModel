{
  "nbformat": 4,
  "nbformat_minor": 0,
  "metadata": {
    "colab": {
      "provenance": [],
      "machine_shape": "hm",
      "gpuType": "T4",
      "include_colab_link": true
    },
    "kernelspec": {
      "name": "python3",
      "display_name": "Python 3"
    },
    "language_info": {
      "name": "python"
    },
    "accelerator": "GPU"
  },
  "cells": [
    {
      "cell_type": "markdown",
      "metadata": {
        "id": "view-in-github",
        "colab_type": "text"
      },
      "source": [
        "<a href=\"https://colab.research.google.com/github/SebastianKropp/DisasterDetectionModel/blob/main/Transformer.ipynb\" target=\"_parent\"><img src=\"https://colab.research.google.com/assets/colab-badge.svg\" alt=\"Open In Colab\"/></a>"
      ]
    },
    {
      "cell_type": "markdown",
      "source": [
        "# CSE 144 Spring 2023 Project\n",
        "\n",
        "Transformer model for disaster tweet detection.\n",
        "\n",
        "Steps:\n",
        "\n",
        "1. Preprocessing: Preprocess the text by tokenizing and converting the text to numerical representations using tokenizer from pretrained model.\n",
        "\n",
        "2. Model Implementation: Implement a BERT model for detecting disaster tweets.\n",
        "\n",
        "3. Model Evaluation: Train the model on the preprocessed dataset and evaluate its performance using accuracy, precision, recall, and F1-score. Experiment with different hyperparameters such as learning rate, batch size, and number of epochs to optimize the model's performance.\n",
        "\n",
        "4. (Optional) Model Interpretation: Analyze the model's predictions by examining the most important features or words that contribute to a disaster or non-disaster tweet. (Optional: Visualize the results using techniques such as word clouds or attention maps).\n",
        "\n",
        "Datasets: \n",
        "\n",
        "- Kaggle dataset: https://www.kaggle.com/competitions/nlp-getting-started/data\n",
        "- Additional: https://www.kaggle.com/datasets/vstepanenko/disaster-tweets?select=tweets.csv"
      ],
      "metadata": {
        "id": "Pc2_kdXYepaQ"
      }
    },
    {
      "cell_type": "markdown",
      "source": [
        "## Dependencies and Imports"
      ],
      "metadata": {
        "id": "J32lfKz8wX8-"
      }
    },
    {
      "cell_type": "code",
      "source": [
        "!pip install transformers\n",
        "!pip install sentencepiece sacremoses importlib_metadata\n",
        "!pip install datasets"
      ],
      "metadata": {
        "id": "DGPnvGcSvOQj"
      },
      "execution_count": null,
      "outputs": []
    },
    {
      "cell_type": "code",
      "execution_count": 2,
      "metadata": {
        "id": "jbtuPaYOedkp"
      },
      "outputs": [],
      "source": [
        "import pandas as pd\n",
        "import random\n",
        "import numpy as np\n",
        "import torch\n",
        "from torch import nn, optim\n",
        "import torch.nn.functional as F\n",
        "from torch.utils.data import TensorDataset\n",
        "from transformers import AutoConfig, AutoTokenizer, AutoModelForSequenceClassification, get_linear_schedule_with_warmup\n",
        "from datasets import load_dataset\n",
        "import math\n",
        "import torchvision.datasets as datasets\n",
        "import torchvision.transforms as transforms\n",
        "from sklearn.metrics import precision_recall_fscore_support, accuracy_score, precision_score, recall_score, f1_score\n",
        "from sklearn.model_selection import train_test_split\n",
        "import matplotlib.pyplot as plt"
      ]
    },
    {
      "cell_type": "markdown",
      "source": [
        "## Preprocessing\n",
        "Preprocess the text by tokenizing and converting the text to numerical representations."
      ],
      "metadata": {
        "id": "D6KweNTHfi-2"
      }
    },
    {
      "cell_type": "markdown",
      "source": [
        "### Load Dataset"
      ],
      "metadata": {
        "id": "XaXJAW0tmXHx"
      }
    },
    {
      "cell_type": "code",
      "source": [
        "# Load the dataset from CSV\n",
        "dataset_path = 'preprocessed_train.csv'  # Replace with the path to your dataset\n",
        "dataset = pd.read_csv(dataset_path)\n",
        "\n",
        "# Split the dataset into train and test sets\n",
        "train_texts, test_texts, train_labels, test_labels = train_test_split(dataset['text'], dataset['target'], test_size=0.2, random_state=42)\n",
        "\n",
        "train_neutral, test_neutral = train_test_split(dataset['neutral'], test_size=0.2, random_state=42)\n",
        "train_positive, test_positive = train_test_split(dataset['positive'], test_size=0.2, random_state=42)\n",
        "train_negative, test_negative = train_test_split(dataset['negative'], test_size=0.2, random_state=42)\n",
        "train_sarcasm, test_sarcasm = train_test_split(dataset['sarcastic'], test_size=0.2, random_state=42)\n",
        "\n",
        "# Specify the device\n",
        "device = torch.device(\"cuda\" if torch.cuda.is_available() else \"cpu\")\n",
        "\n",
        "# Load a pre-trained tokenizer\n",
        "model_name = 'prajjwal1/bert-tiny'\n",
        "tokenizer = AutoTokenizer.from_pretrained(model_name)"
      ],
      "metadata": {
        "id": "PZ7ylaGmfnbk"
      },
      "execution_count": 127,
      "outputs": []
    },
    {
      "cell_type": "markdown",
      "source": [
        "### Tokenization"
      ],
      "metadata": {
        "id": "hlwpPBLUlIqi"
      }
    },
    {
      "cell_type": "code",
      "source": [
        "def preprocess(texts, sarcasm, neutral, positive, negative):\n",
        "  texts = texts.tolist() if isinstance(texts, pd.Series) else texts  # Convert to list if needed\n",
        "  sarcasm = sarcasm.tolist() if isinstance(sarcasm, pd.Series) else sarcasm\n",
        "  neutral = neutral.tolist() if isinstance(neutral, pd.Series) else neutral\n",
        "  positive = positive.tolist() if isinstance(positive, pd.Series) else positive\n",
        "  negative = negative.tolist() if isinstance(negative, pd.Series) else negative\n",
        "\n",
        "  encoded_inputs = tokenizer(\n",
        "    texts,\n",
        "    padding='longest',\n",
        "    truncation=True,\n",
        "    max_length=512,\n",
        "    return_tensors='pt',\n",
        "    add_special_tokens=True\n",
        "  )\n",
        "  input_ids = encoded_inputs['input_ids'].to(device)\n",
        "  attention_masks = encoded_inputs['attention_mask'].to(device)\n",
        "  sarcasm_probs = torch.tensor(sarcasm).to(device)\n",
        "  neutral_probs = torch.tensor(neutral).to(device)\n",
        "  positive_probs = torch.tensor(positive).to(device)\n",
        "  negative_probs = torch.tensor(negative).to(device)\n",
        "\n",
        "  return input_ids, attention_masks, sarcasm_probs, neutral_probs, positive_probs, negative_probs"
      ],
      "metadata": {
        "id": "FtdXxzdylBNT"
      },
      "execution_count": 128,
      "outputs": []
    },
    {
      "cell_type": "code",
      "source": [
        "# Test preprocess()\n",
        "test = train_texts[:2]\n",
        "input_ids, attention_masks = preprocess(test)\n",
        "\n",
        "# Print the first example\n",
        "print(\"Text:\", test.iloc[0])\n",
        "print(\"Tokenized input:\", tokenizer.convert_ids_to_tokens(input_ids[0].tolist()))\n",
        "print(\"Input IDs:\", input_ids[0])\n",
        "print(\"Attention Mask:\", attention_masks[0])"
      ],
      "metadata": {
        "id": "7EWEfgcnNNiF"
      },
      "execution_count": null,
      "outputs": []
    },
    {
      "cell_type": "markdown",
      "source": [
        "### Build DataLoaders"
      ],
      "metadata": {
        "id": "eBb55WNoIStj"
      }
    },
    {
      "cell_type": "code",
      "source": [
        "# ----- Build train dataset -----\n",
        "\n",
        "# Preprocess the text data\n",
        "#train_input_ids, train_attention_masks = preprocess(train_texts)\n",
        "train_input_ids, train_attention_masks, train_sarcasm_probs, train_neutral_probs, train_positive_probs, train_negative_probs = preprocess(train_texts, train_sarcasm, train_neutral, train_positive, train_negative)\n",
        "\n",
        "# Convert train_labels to a list, then to a tensor\n",
        "train_labels = torch.tensor(train_labels.tolist()).to(device)\n",
        "\n",
        "# Build train dataset\n",
        "train_dataset = torch.utils.data.TensorDataset(train_input_ids, train_attention_masks, train_labels)\n",
        "\n",
        "# Split the dataset into train and validation sets\n",
        "train_size = int(0.8 * len(train_dataset))\n",
        "val_size = len(train_dataset) - train_size\n",
        "train_dataset, val_dataset = torch.utils.data.random_split(train_dataset, [train_size, val_size])\n",
        "\n",
        "# ------ Build test dataset -----\n",
        "\n",
        "# Preprocess the text data\n",
        "#test_input_ids, test_attention_masks = preprocess(test_texts)\n",
        "test_input_ids, test_attention_masks, test_sarcasm_probs, test_neutral_probs, test_positive_probs, test_negative_probs = preprocess(test_texts, test_sarcasm, test_neutral, test_positive, test_negative)\n",
        "\n",
        "# Convert train_labels to a list, then to a tensor\n",
        "test_labels = torch.tensor(test_labels.tolist()).to(device)\n",
        "\n",
        "# Build test dataset\n",
        "test_dataset = torch.utils.data.TensorDataset(test_input_ids, test_attention_masks, test_labels)"
      ],
      "metadata": {
        "id": "cwhluJ_MR--3"
      },
      "execution_count": 129,
      "outputs": []
    },
    {
      "cell_type": "code",
      "source": [
        "# Define batch size\n",
        "batch_size = 128\n",
        "\n",
        "# Build DataLoaders\n",
        "trainloader = torch.utils.data.DataLoader(train_dataset, batch_size=batch_size, shuffle=True)\n",
        "testloader = torch.utils.data.DataLoader(test_dataset, batch_size=batch_size, shuffle=False)\n",
        "valloader = torch.utils.data.DataLoader(val_dataset, batch_size=batch_size, shuffle=False)"
      ],
      "metadata": {
        "id": "Oxg2sNBvIWlW"
      },
      "execution_count": 130,
      "outputs": []
    },
    {
      "cell_type": "markdown",
      "source": [
        "## Implementation\n",
        "Implement model using a pre-trained model."
      ],
      "metadata": {
        "id": "2dJtHHPJfoHI"
      }
    },
    {
      "cell_type": "code",
      "source": [
        "%%capture captured_output\n",
        "# Number of labels\n",
        "num_labels = 2\n",
        "\n",
        "# Load the pre-trained model\n",
        "model = AutoModelForSequenceClassification.from_pretrained(model_name, num_labels=num_labels)\n",
        "\n",
        "# Download model and configuration from S3 and cache.\n",
        "config = AutoConfig.from_pretrained(model_name)\n",
        "last_state_dim = config.hidden_size\n",
        "\n",
        "# Create additional embeddings\n",
        "sarcasm_embedding_dim = 8\n",
        "sentiment_embedding_dim = 16\n",
        "\n",
        "model.sarcasm_embedding = nn.Linear(1, sarcasm_embedding_dim)\n",
        "model.sentiment_embedding = nn.Linear(3, sentiment_embedding_dim)\n",
        "model.classifier = torch.nn.Linear(last_state_dim, num_labels) # Replace the pre-trained head with a new one.\n",
        "\n",
        "model.to(device)\n",
        "del captured_output"
      ],
      "metadata": {
        "id": "dqLuEZHEfrBo",
        "colab": {
          "base_uri": "https://localhost:8080/"
        },
        "outputId": "d3ca0040-b4c8-4709-f12a-8d469b181368"
      },
      "execution_count": 144,
      "outputs": [
        {
          "output_type": "stream",
          "name": "stderr",
          "text": [
            "Some weights of the model checkpoint at prajjwal1/bert-tiny were not used when initializing BertForSequenceClassification: ['cls.predictions.transform.dense.bias', 'cls.predictions.decoder.weight', 'cls.seq_relationship.weight', 'cls.seq_relationship.bias', 'cls.predictions.transform.LayerNorm.weight', 'cls.predictions.transform.LayerNorm.bias', 'cls.predictions.transform.dense.weight', 'cls.predictions.decoder.bias', 'cls.predictions.bias']\n",
            "- This IS expected if you are initializing BertForSequenceClassification from the checkpoint of a model trained on another task or with another architecture (e.g. initializing a BertForSequenceClassification model from a BertForPreTraining model).\n",
            "- This IS NOT expected if you are initializing BertForSequenceClassification from the checkpoint of a model that you expect to be exactly identical (initializing a BertForSequenceClassification model from a BertForSequenceClassification model).\n",
            "Some weights of BertForSequenceClassification were not initialized from the model checkpoint at prajjwal1/bert-tiny and are newly initialized: ['classifier.weight', 'classifier.bias']\n",
            "You should probably TRAIN this model on a down-stream task to be able to use it for predictions and inference.\n"
          ]
        }
      ]
    },
    {
      "cell_type": "markdown",
      "source": [
        "## Evaluation\n",
        "Train the model on the preprocessed dataset and evaluate its performance using accuracy, precision, recall, and F1-score. Experiment with different hyperparameters such as learning rate, batch size, and number of epochs to optimize the model's performance."
      ],
      "metadata": {
        "id": "19sDaTXRfrmQ"
      }
    },
    {
      "cell_type": "markdown",
      "source": [
        "### Train"
      ],
      "metadata": {
        "id": "pkMT8YPwygmC"
      }
    },
    {
      "cell_type": "code",
      "source": [
        "def train_model(model):\n",
        "  model.train()\n",
        "  losses = []  # List to store the loss after each epoch\n",
        "  accuracies = []\n",
        "  val_accuracies = []\n",
        "  best_val_accuracy = -1  # Initialize the best validation accuracy\n",
        "  early_stopping_counter = 0  # Counter for early stopping\n",
        "    \n",
        "  for epoch in range(epochs):\n",
        "      running_loss = 0.0\n",
        "        \n",
        "      for batch in trainloader:\n",
        "          input_ids, attention_masks, labels = batch\n",
        "          input_ids, attention_masks, labels = input_ids.to(device), attention_masks.to(device), labels.to(device)\n",
        "            \n",
        "          optimizer.zero_grad()\n",
        "            \n",
        "          # Forward pass\n",
        "          outputs = model(input_ids, attention_mask=attention_masks)\n",
        "          logits = outputs.logits.to(device)\n",
        "          loss = criterion(logits, labels)\n",
        "            \n",
        "          # Backward pass and optimization\n",
        "          loss.backward()\n",
        "          #nn.utils.clip_grad_norm_(model.parameters(), max_norm=1.0)\n",
        "\n",
        "          optimizer.step()\n",
        "          #scheduler.step()\n",
        "          losses.append(loss.detach().cpu().numpy())\n",
        "\n",
        "          # Calculate accuracy\n",
        "          _, predicted_labels = torch.max(logits, dim=1)\n",
        "          batch_accuracy = (predicted_labels == labels).sum().item() / labels.size(0)\n",
        "          accuracies.append(batch_accuracy)\n",
        "\n",
        "          # Uncomment to calculate validation accuracy (takes more time)\n",
        "          val_accuracy, _, _, _, _ = evaluate_model(model, valloader, False)\n",
        "          val_accuracies.append(val_accuracy)\n",
        "\n",
        "      # Check if the current validation accuracy is better than the previous best\n",
        "      if val_accuracy > best_val_accuracy:\n",
        "          best_val_accuracy = val_accuracy\n",
        "          early_stopping_counter = 0  # Reset the counter\n",
        "      else:\n",
        "          early_stopping_counter += 1  # Increment the counter\n",
        "\n",
        "      print('Train Epoch: {}\\tLoss: {:.6f}\\tTrain Accuracy: {:.4f}\\tValidation Accuracy: {:.4f}'.format(\n",
        "        epoch, loss.item(), batch_accuracy, val_accuracy))\n",
        "      #print('Train Epoch: {}\\tLoss: {:.6f}\\tTrain Accuracy: {:.4f}'.format(\n",
        "      #  epoch, loss.item(), batch_accuracy))\n",
        "\n",
        "      # Check if early stopping criterion is met\n",
        "      if early_stopping_counter >= patience:\n",
        "        print(\"Early stopping triggered. No improvement in validation accuracy for {} epochs.\".format(patience))\n",
        "        break\n",
        "\n",
        "  return losses, accuracies, val_accuracies"
      ],
      "metadata": {
        "id": "GmBet-H5IZHH"
      },
      "execution_count": 101,
      "outputs": []
    },
    {
      "cell_type": "code",
      "source": [
        "# Define learning rate and number of epochs\n",
        "learning_rate = 1e-5\n",
        "epochs = 50\n",
        "patience = 3\n",
        "\n",
        "# Define the optimizer and criterion\n",
        "optimizer = optim.AdamW(model.parameters(), lr=learning_rate) # best learning rate: 1e-5, avg result: ~80%\n",
        "#optimizer = optim.RMSprop(model.parameters(), lr=learning_rate) # best learning rate: 1e-5, avg result: ~81% accuracy\n",
        "#optimizer = optim.Adam(model.parameters(), lr=learning_rate) # best learning rate: 1e-5, avg result: ~80% accuracy\n",
        "\n",
        "criterion = nn.CrossEntropyLoss()  # CrossEntropyLoss for multi-class classification\n",
        "\n",
        "# Define the scheduler to adjust learning rate\n",
        "#scheduler = get_linear_schedule_with_warmup(optimizer, num_warmup_steps=0, num_training_steps=len(trainloader) * epochs)"
      ],
      "metadata": {
        "id": "RA1qFhRrfvgb"
      },
      "execution_count": 145,
      "outputs": []
    },
    {
      "cell_type": "code",
      "source": [
        "# Train model\n",
        "losses, accuracies, val_accuracies = train_model(model)"
      ],
      "metadata": {
        "id": "r2gfCxVdIoC0",
        "colab": {
          "base_uri": "https://localhost:8080/"
        },
        "outputId": "8f243035-361c-4e43-c717-ed46a96a4a50"
      },
      "execution_count": 146,
      "outputs": [
        {
          "output_type": "stream",
          "name": "stdout",
          "text": [
            "Train Epoch: 0\tLoss: 0.648262\tTrain Accuracy: 0.8333\tValidation Accuracy: 0.7118\n",
            "Train Epoch: 1\tLoss: 0.745058\tTrain Accuracy: 0.6667\tValidation Accuracy: 0.7381\n",
            "Train Epoch: 2\tLoss: 0.486048\tTrain Accuracy: 0.8333\tValidation Accuracy: 0.7479\n",
            "Train Epoch: 3\tLoss: 0.437673\tTrain Accuracy: 1.0000\tValidation Accuracy: 0.7578\n",
            "Train Epoch: 4\tLoss: 0.617486\tTrain Accuracy: 0.6667\tValidation Accuracy: 0.7660\n",
            "Train Epoch: 5\tLoss: 0.838190\tTrain Accuracy: 0.3333\tValidation Accuracy: 0.7685\n",
            "Train Epoch: 6\tLoss: 0.374194\tTrain Accuracy: 1.0000\tValidation Accuracy: 0.7775\n",
            "Train Epoch: 7\tLoss: 0.338632\tTrain Accuracy: 0.8333\tValidation Accuracy: 0.7857\n",
            "Train Epoch: 8\tLoss: 0.233623\tTrain Accuracy: 1.0000\tValidation Accuracy: 0.7898\n",
            "Train Epoch: 9\tLoss: 0.430680\tTrain Accuracy: 0.8333\tValidation Accuracy: 0.7915\n",
            "Train Epoch: 10\tLoss: 0.207039\tTrain Accuracy: 0.8333\tValidation Accuracy: 0.7915\n",
            "Train Epoch: 11\tLoss: 0.593053\tTrain Accuracy: 0.6667\tValidation Accuracy: 0.7956\n",
            "Train Epoch: 12\tLoss: 0.158216\tTrain Accuracy: 1.0000\tValidation Accuracy: 0.7989\n",
            "Train Epoch: 13\tLoss: 0.356292\tTrain Accuracy: 0.8333\tValidation Accuracy: 0.8030\n",
            "Train Epoch: 14\tLoss: 0.073621\tTrain Accuracy: 1.0000\tValidation Accuracy: 0.8013\n",
            "Train Epoch: 15\tLoss: 0.127117\tTrain Accuracy: 1.0000\tValidation Accuracy: 0.8046\n",
            "Train Epoch: 16\tLoss: 0.548258\tTrain Accuracy: 0.8333\tValidation Accuracy: 0.8038\n",
            "Train Epoch: 17\tLoss: 0.204346\tTrain Accuracy: 1.0000\tValidation Accuracy: 0.8087\n",
            "Train Epoch: 18\tLoss: 0.333188\tTrain Accuracy: 0.8333\tValidation Accuracy: 0.7972\n",
            "Train Epoch: 19\tLoss: 0.232359\tTrain Accuracy: 1.0000\tValidation Accuracy: 0.7915\n",
            "Train Epoch: 20\tLoss: 0.078364\tTrain Accuracy: 1.0000\tValidation Accuracy: 0.7972\n",
            "Early stopping triggered. No improvement in validation accuracy for 3 epochs.\n"
          ]
        }
      ]
    },
    {
      "cell_type": "code",
      "source": [
        "# Compare train and validation accuracy during training\n",
        "plt.plot(accuracies, label='Train Accuracy')\n",
        "plt.plot(val_accuracies, label='Validation Accuracy')\n",
        "plt.xlabel('Batch')\n",
        "plt.ylabel('Accuracy')\n",
        "plt.title('Train and Validation Accuracies')\n",
        "plt.legend()\n",
        "plt.show()"
      ],
      "metadata": {
        "colab": {
          "base_uri": "https://localhost:8080/",
          "height": 472
        },
        "id": "j6PbBXEY2JVQ",
        "outputId": "8ae129ad-e272-4e09-bbf2-7de482c72cf5"
      },
      "execution_count": 147,
      "outputs": [
        {
          "output_type": "display_data",
          "data": {
            "text/plain": [
              "<Figure size 640x480 with 1 Axes>"
            ],
            "image/png": "[encoded data removed]"
          },
          "metadata": {}
        }
      ]
    },
    {
      "cell_type": "code",
      "source": [
        "fig, ax = plt.subplots(figsize=(8, 6))\n",
        "ax.plot(range(0, len(losses)), losses)"
      ],
      "metadata": {
        "id": "xLR2mw0xjWzy"
      },
      "execution_count": null,
      "outputs": []
    },
    {
      "cell_type": "code",
      "source": [
        "fig, ax = plt.subplots(figsize=(8, 6))\n",
        "ax.plot(range(0, len(accuracies)), accuracies)"
      ],
      "metadata": {
        "id": "IL5CXiN2s6rl"
      },
      "execution_count": null,
      "outputs": []
    },
    {
      "cell_type": "markdown",
      "source": [
        "### Evaluate"
      ],
      "metadata": {
        "id": "BkezpdAdyWAh"
      }
    },
    {
      "cell_type": "code",
      "source": [
        "def evaluate_model(model, dataloader, is_test=True):\n",
        "    model.eval()\n",
        "    predictions = []\n",
        "    true_labels = []\n",
        "    predicted_probs = []\n",
        "    input_ids_list = []\n",
        "\n",
        "    with torch.no_grad():\n",
        "        for batch in dataloader:\n",
        "            input_ids, attention_masks, labels = batch\n",
        "            input_ids, attention_masks, labels = input_ids.to(device), attention_masks.to(device), labels.to(device)\n",
        "\n",
        "            outputs = model(input_ids, attention_mask=attention_masks)\n",
        "            logits = outputs.logits.to(device)\n",
        "\n",
        "            _, predicted_labels = torch.max(logits, dim=1)\n",
        "            predicted_prob = torch.softmax(logits, dim=1)\n",
        "\n",
        "            predictions.extend(predicted_labels.cpu().tolist())\n",
        "            true_labels.extend(labels.cpu().tolist())\n",
        "            predicted_probs.extend(predicted_prob.cpu().tolist())  # Assuming class 1 is the positive class\n",
        "            input_ids_list.extend(input_ids.cpu().tolist())\n",
        "\n",
        "    predicted_probs = np.array(predicted_probs)\n",
        "\n",
        "    # Calculate evaluation metrics\n",
        "    accuracy = accuracy_score(true_labels, predictions)\n",
        "\n",
        "    if is_test:\n",
        "      print(\"Evaluation on test set:\")\n",
        "      precision = precision_score(true_labels, predictions, average='macro')\n",
        "      recall = recall_score(true_labels, predictions, average='macro')\n",
        "      f1 = f1_score(true_labels, predictions, average='macro')\n",
        "      return accuracy, precision, recall, f1, true_labels, predictions, predicted_probs, input_ids_list\n",
        "\n",
        "    else:\n",
        "        return accuracy, true_labels, predictions, predicted_probs, input_ids_list"
      ],
      "metadata": {
        "id": "DFdV6eVjQdQh"
      },
      "execution_count": 14,
      "outputs": []
    },
    {
      "cell_type": "code",
      "source": [
        "# Evaluate model\n",
        "accuracy, precision, recall, f1, true_labels, predictions, predicted_probs, input_ids_list = evaluate_model(model, testloader)\n",
        "\n",
        "# Print results\n",
        "print(f\"Accuracy: {accuracy:.4f}\")\n",
        "print(f\"Precision: {precision:.4f}\")\n",
        "print(f\"Recall: {recall:.4f}\")\n",
        "print(f\"F1 Score: {f1:.4f}\")"
      ],
      "metadata": {
        "id": "v2BWeswWQht_",
        "colab": {
          "base_uri": "https://localhost:8080/"
        },
        "outputId": "f0511ade-d94e-486f-eb8b-7ee9d3d5de38"
      },
      "execution_count": 148,
      "outputs": [
        {
          "output_type": "stream",
          "name": "stdout",
          "text": [
            "Evaluation on test set:\n",
            "Accuracy: 0.8062\n",
            "Precision: 0.8029\n",
            "Recall: 0.8003\n",
            "F1 Score: 0.8014\n"
          ]
        }
      ]
    },
    {
      "cell_type": "code",
      "source": [
        "def find_most_significant_words(input_ids_list, predicted_probs):\n",
        "    token_scores = {}\n",
        "\n",
        "    # Aggregate the predicted probabilities for each token across examples\n",
        "    for example_probs in predicted_probs:\n",
        "        for token_index, prob_positive_class in enumerate(example_probs):\n",
        "            if token_index not in token_scores:\n",
        "                token_scores[token_index] = prob_positive_class\n",
        "            else:\n",
        "                token_scores[token_index] += prob_positive_class\n",
        "\n",
        "    # Sort the token scores in descending order\n",
        "    sorted_scores = sorted(token_scores.items(), key=lambda x: x[1], reverse=True)\n",
        "\n",
        "    # Get the top 10 most significant words\n",
        "    top_10_tokens = [token_index for token_index, _ in sorted_scores[:10]]\n",
        "    top_10_words = [tokenizer.convert_ids_to_tokens(input_ids[token_index]) for token_index in top_10_tokens]\n",
        "\n",
        "    return top_10_words"
      ],
      "metadata": {
        "id": "-OioxU556TSj"
      },
      "execution_count": null,
      "outputs": []
    },
    {
      "cell_type": "code",
      "source": [
        "top_words = find_most_significant_words(input_ids_list, predicted_probs)\n",
        "print(top_words)"
      ],
      "metadata": {
        "colab": {
          "base_uri": "https://localhost:8080/"
        },
        "id": "6oUkJcKE6YRJ",
        "outputId": "c800556c-fe30-4aa0-d3ab-d75b172b799e"
      },
      "execution_count": null,
      "outputs": [
        {
          "output_type": "stream",
          "name": "stdout",
          "text": [
            "[['[CLS]', '@', 'organic', '##ally', '##rud', '##e', '@', '1', '##rock', '##star', '##6', '##2', '#', 'wish', 'matt', '##ingly', '&', 'amp', ';', 'bun', '##dy', '&', 'amp', ';', 'mc', '##g', '##wire', 'were', 'standing', 'on', 'it', 'when', 'it', 'collapsed', '!', '[SEP]', '[PAD]'], ['[CLS]', 'courageous', 'and', 'honest', 'analysis', 'of', 'need', 'to', 'use', 'atomic', 'bomb', 'in', '1945', '.', '#', 'hiroshima', '##70', 'japanese', 'military', 'refused', 'surrender', '.', 'https', ':', '/', '/', 't', '.', 'co', '/', 'v', '##hm', '##ty', '##tp', '##t', '##gr', '[SEP]']]\n"
          ]
        }
      ]
    },
    {
      "cell_type": "markdown",
      "source": [
        "## Visualizations"
      ],
      "metadata": {
        "id": "mHZ4oO0Qh-tg"
      }
    },
    {
      "cell_type": "code",
      "source": [
        "from sklearn.metrics import confusion_matrix, precision_recall_curve, roc_curve, roc_auc_score\n",
        "import seaborn as sns"
      ],
      "metadata": {
        "id": "zZ0_VY_XiB1m"
      },
      "execution_count": null,
      "outputs": []
    },
    {
      "cell_type": "code",
      "source": [
        "def plot_confusion_matrix(true_labels, predicted_labels):\n",
        "    # Calculate the confusion matrix\n",
        "    cm = confusion_matrix(true_labels, predicted_labels)\n",
        "\n",
        "    # Create a heatmap for the confusion matrix\n",
        "    sns.heatmap(cm, annot=True, cmap='Blues', fmt='d', cbar=False)\n",
        "\n",
        "    # Set axis labels and title\n",
        "    plt.xlabel('Predicted Labels')\n",
        "    plt.ylabel('True Labels')\n",
        "    plt.title('Confusion Matrix')\n",
        "\n",
        "    # Show the plot\n",
        "    plt.show()\n",
        "\n",
        "plot_confusion_matrix(true_labels, predictions)"
      ],
      "metadata": {
        "colab": {
          "base_uri": "https://localhost:8080/",
          "height": 472
        },
        "id": "eNpnZVE9uMq4",
        "outputId": "3d8e552d-62cc-4aaa-f3cd-bfbed71d1cee"
      },
      "execution_count": null,
      "outputs": [
        {
          "output_type": "display_data",
          "data": {
            "text/plain": [
              "<Figure size 640x480 with 1 Axes>"
            ],
            "image/png": "[encoded data removed]"
          },
          "metadata": {}
        }
      ]
    },
    {
      "cell_type": "code",
      "source": [
        "def plot_roc_curve(true_labels, predicted_probs):\n",
        "    fpr, tpr, thresholds = roc_curve(true_labels, predicted_probs[:, 1])\n",
        "    auc = roc_auc_score(true_labels, predicted_probs[:, 1])\n",
        "\n",
        "    plt.plot(fpr, tpr, label='ROC curve (AUC = {:.2f})'.format(auc))\n",
        "    plt.plot([0, 1], [0, 1], linestyle='--', color='r', label='Random Guess')\n",
        "    plt.xlabel('False Positive Rate (FPR)')\n",
        "    plt.ylabel('True Positive Rate (TPR)')\n",
        "    plt.title('Receiver Operating Characteristic (ROC) Curve')\n",
        "    plt.legend()\n",
        "    plt.show()\n",
        "\n",
        "plot_roc_curve(true_labels, predicted_probs)"
      ],
      "metadata": {
        "colab": {
          "base_uri": "https://localhost:8080/",
          "height": 472
        },
        "id": "D6iaq_5Cw2_W",
        "outputId": "28d98be4-b8e1-4211-c941-0d6c36a30834"
      },
      "execution_count": null,
      "outputs": [
        {
          "output_type": "display_data",
          "data": {
            "text/plain": [
              "<Figure size 640x480 with 1 Axes>"
            ],
            "image/png": "[encoded data removed]"
          },
          "metadata": {}
        }
      ]
    },
    {
      "cell_type": "markdown",
      "source": [
        "### Predict Disaster or Not\n",
        "\n",
        "Use trained model to predict if a tweet is about a disaster or not."
      ],
      "metadata": {
        "id": "iu3vAJFCkD0-"
      }
    },
    {
      "cell_type": "code",
      "source": [
        "def preprocess_TA(text):\n",
        "  inputs = tokenizer(text, padding=True, truncation=True, return_tensors='pt')\n",
        "  return inputs['input_ids'].to(device), inputs['attention_mask'].to(device)\n",
        "\n",
        "def predict_disaster_TA(texts):\n",
        "  model.eval() # Set the model to evaluation mode\n",
        "  input_ids, attention_mask = preprocess_TA(texts)\n",
        "\n",
        "  with torch.no_grad():\n",
        "    outputs = model(input_ids, attention_mask=attention_mask) # Get the model outputs\n",
        "    logits = outputs.logits # Get the logits from the model outputs\n",
        "    probabilities = F.softmax(logits, dim=1)\n",
        "    disasters = torch.argmax(probabilities, dim=1).squeeze()\n",
        "\n",
        "  return disasters, probabilities"
      ],
      "metadata": {
        "id": "6L0UtFHEoYRs"
      },
      "execution_count": null,
      "outputs": []
    },
    {
      "cell_type": "code",
      "source": [
        "# Call the predict_sentiment_TA function\n",
        "text = \"Was in NYC last week!\"\n",
        "disaster, probabilities = predict_disaster_TA(text)\n",
        "\n",
        "print(f\"Disaster: {disaster}\")\n",
        "print(f\"Probabilities: {probabilities}\")"
      ],
      "metadata": {
        "colab": {
          "base_uri": "https://localhost:8080/"
        },
        "id": "IeOakJ-yLjlJ",
        "outputId": "dd0fcb9e-b79c-43ff-d64d-de7c27138def"
      },
      "execution_count": null,
      "outputs": [
        {
          "output_type": "stream",
          "name": "stdout",
          "text": [
            "Disaster: 0\n",
            "Probabilities: tensor([[0.9179, 0.0821]], device='cuda:0')\n"
          ]
        }
      ]
    }
  ]
}